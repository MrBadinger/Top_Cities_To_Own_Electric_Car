{
 "cells": [
  {
   "cell_type": "code",
   "execution_count": 44,
   "metadata": {
    "scrolled": false
   },
   "outputs": [
    {
     "data": {
      "text/html": [
       "<div>\n",
       "<style scoped>\n",
       "    .dataframe tbody tr th:only-of-type {\n",
       "        vertical-align: middle;\n",
       "    }\n",
       "\n",
       "    .dataframe tbody tr th {\n",
       "        vertical-align: top;\n",
       "    }\n",
       "\n",
       "    .dataframe thead th {\n",
       "        text-align: right;\n",
       "    }\n",
       "</style>\n",
       "<table border=\"1\" class=\"dataframe\">\n",
       "  <thead>\n",
       "    <tr style=\"text-align: right;\">\n",
       "      <th></th>\n",
       "      <th>City_State</th>\n",
       "      <th>Clean_City</th>\n",
       "      <th>Population</th>\n",
       "      <th>Lat</th>\n",
       "      <th>Lng</th>\n",
       "    </tr>\n",
       "  </thead>\n",
       "  <tbody>\n",
       "    <tr>\n",
       "      <th>0</th>\n",
       "      <td>Las Vegas, Nevada</td>\n",
       "      <td>Las Vegas</td>\n",
       "      <td>626637.0</td>\n",
       "      <td>36.169941</td>\n",
       "      <td>-115.139830</td>\n",
       "    </tr>\n",
       "    <tr>\n",
       "      <th>1</th>\n",
       "      <td>Albuquerque, New Mexico</td>\n",
       "      <td>Albuquerque</td>\n",
       "      <td>559202.0</td>\n",
       "      <td>35.084386</td>\n",
       "      <td>-106.650422</td>\n",
       "    </tr>\n",
       "    <tr>\n",
       "      <th>2</th>\n",
       "      <td>Charlotte, North Carolina</td>\n",
       "      <td>Charlotte</td>\n",
       "      <td>841611.0</td>\n",
       "      <td>35.227087</td>\n",
       "      <td>-80.843127</td>\n",
       "    </tr>\n",
       "    <tr>\n",
       "      <th>3</th>\n",
       "      <td>New York, New York</td>\n",
       "      <td>New York</td>\n",
       "      <td>8443713.0</td>\n",
       "      <td>40.712775</td>\n",
       "      <td>-74.005973</td>\n",
       "    </tr>\n",
       "    <tr>\n",
       "      <th>4</th>\n",
       "      <td>Columbus, Ohio</td>\n",
       "      <td>Columbus</td>\n",
       "      <td>867628.0</td>\n",
       "      <td>39.961176</td>\n",
       "      <td>-82.998794</td>\n",
       "    </tr>\n",
       "  </tbody>\n",
       "</table>\n",
       "</div>"
      ],
      "text/plain": [
       "                  City_State   Clean_City  Population        Lat         Lng\n",
       "0          Las Vegas, Nevada    Las Vegas    626637.0  36.169941 -115.139830\n",
       "1    Albuquerque, New Mexico  Albuquerque    559202.0  35.084386 -106.650422\n",
       "2  Charlotte, North Carolina    Charlotte    841611.0  35.227087  -80.843127\n",
       "3         New York, New York     New York   8443713.0  40.712775  -74.005973\n",
       "4             Columbus, Ohio     Columbus    867628.0  39.961176  -82.998794"
      ]
     },
     "execution_count": 44,
     "metadata": {},
     "output_type": "execute_result"
    }
   ],
   "source": [
    "# Dependencies\n",
    "import pandas as pd\n",
    "import requests\n",
    "import json\n",
    "\n",
    "# OpenWeather & gmaps API Keys\n",
    "from config import (api_key,gkey)\n",
    "\n",
    "cities_pd = pd.read_csv(\"../Resources/census_city.csv\")\n",
    "\n",
    "# Save config information\n",
    "url = \"http://api.openweathermap.org/data/2.5/weather?\"\n",
    "units = 'imperial'\n",
    "\n",
    "# delete the unamed index column\n",
    "del cities_pd['Unnamed: 0']\n",
    "\n",
    "cities_pd.head()"
   ]
  },
  {
   "cell_type": "code",
   "execution_count": 42,
   "metadata": {},
   "outputs": [],
   "source": [
    "# build Query URL\n",
    "\n",
    "base_url = f\"{url}appid={api_key}&units={units}&q=\"\n",
    "#print(query_url)\n",
    "\n"
   ]
  },
  {
   "cell_type": "code",
   "execution_count": 48,
   "metadata": {},
   "outputs": [
    {
     "name": "stdout",
     "output_type": "stream",
     "text": [
      "{\n",
      "    \"base\": \"stations\",\n",
      "    \"clouds\": {\n",
      "        \"all\": 20\n",
      "    },\n",
      "    \"cod\": 200,\n",
      "    \"coord\": {\n",
      "        \"lat\": 42.33,\n",
      "        \"lon\": -83.05\n",
      "    },\n",
      "    \"dt\": 1604164979,\n",
      "    \"id\": 4990729,\n",
      "    \"main\": {\n",
      "        \"feels_like\": 31.95,\n",
      "        \"humidity\": 49,\n",
      "        \"pressure\": 1028,\n",
      "        \"temp\": 45.81,\n",
      "        \"temp_max\": 46.4,\n",
      "        \"temp_min\": 44.6\n",
      "    },\n",
      "    \"name\": \"Detroit\",\n",
      "    \"sys\": {\n",
      "        \"country\": \"US\",\n",
      "        \"id\": 3806,\n",
      "        \"sunrise\": 1604145887,\n",
      "        \"sunset\": 1604183200,\n",
      "        \"type\": 1\n",
      "    },\n",
      "    \"timezone\": -14400,\n",
      "    \"visibility\": 10000,\n",
      "    \"weather\": [\n",
      "        {\n",
      "            \"description\": \"few clouds\",\n",
      "            \"icon\": \"02d\",\n",
      "            \"id\": 801,\n",
      "            \"main\": \"Clouds\"\n",
      "        }\n",
      "    ],\n",
      "    \"wind\": {\n",
      "        \"deg\": 180,\n",
      "        \"gust\": 25.28,\n",
      "        \"speed\": 17.22\n",
      "    }\n",
      "}\n"
     ]
    }
   ],
   "source": [
    "# Build lists for lat & lon\n",
    "\n",
    "for index, row in cities_pd.iterrows():\n",
    "    \n",
    "    query_url = base_url + row[1]\n",
    "    response = requests.get(query_url).json()\n",
    "\n",
    "    print(json.dumps(response, indent=4, sort_keys=True))\n",
    "\n",
    "    \n",
    "    \n",
    "# max_temp = []\n",
    "# min_temp = []\n",
    "# avg_temp = []\n",
    "# count = count + 1\n",
    "\n",
    "# for city in cities_pd:\n",
    "#     city_response = requests.get(query_url+lat+lng).json\n",
    "#     print(json.dumps(weather_response, indent=4, sort_keys=True))\n",
    "\n",
    "\n",
    "\n",
    "\n",
    "\n",
    "\n"
   ]
  },
  {
   "cell_type": "code",
   "execution_count": null,
   "metadata": {},
   "outputs": [],
   "source": [
    "# Determine and add Temperatures"
   ]
  },
  {
   "cell_type": "code",
   "execution_count": null,
   "metadata": {},
   "outputs": [],
   "source": [
    "# Create a heat map using Temperature as weight\n"
   ]
  },
  {
   "cell_type": "code",
   "execution_count": null,
   "metadata": {},
   "outputs": [],
   "source": [
    "# Great box plots for min and max temperatures to identify outliers visually\n"
   ]
  },
  {
   "cell_type": "code",
   "execution_count": null,
   "metadata": {},
   "outputs": [],
   "source": [
    "# Remove Outliers and build new data frame and clean csv file\n"
   ]
  }
 ],
 "metadata": {
  "kernelspec": {
   "display_name": "Python [conda env:PythonData]",
   "language": "python",
   "name": "conda-env-PythonData-py"
  },
  "language_info": {
   "codemirror_mode": {
    "name": "ipython",
    "version": 3
   },
   "file_extension": ".py",
   "mimetype": "text/x-python",
   "name": "python",
   "nbconvert_exporter": "python",
   "pygments_lexer": "ipython3",
   "version": "3.6.12"
  }
 },
 "nbformat": 4,
 "nbformat_minor": 4
}
