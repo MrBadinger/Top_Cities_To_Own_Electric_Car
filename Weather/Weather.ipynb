{
 "cells": [
  {
   "cell_type": "code",
   "execution_count": null,
   "metadata": {
    "scrolled": false
   },
   "outputs": [],
   "source": [
    "# Dependencies\n",
    "import pandas as pd\n",
    "import requests\n",
    "import json\n",
    "import numpy as np\n",
    "\n",
    "\n",
    "# OpenWeather & gmaps API Keys\n",
    "from config import (api_key,gkey)\n",
    "\n",
    "cities_pd = pd.read_csv(\"../Resources/census_city.csv\")\n",
    "\n",
    "# Save config information\n",
    "url = \"http://api.openweathermap.org/data/2.5/weather?\"\n",
    "units = 'imperial'\n",
    "\n",
    "# delete the unamed index column\n",
    "del cities_pd['Unnamed: 0']\n",
    "\n",
    "cities_pd.head()"
   ]
  },
  {
   "cell_type": "code",
   "execution_count": null,
   "metadata": {},
   "outputs": [],
   "source": [
    "# Pull in tempatures into a list to add to dataframe\n",
    "\n",
    "cities_pd[\"Max Temp\"] = np.nan\n",
    "cities_pd[\"Min Temp\"] = np.nan\n",
    "\n",
    "base_url = f\"{url}appid={api_key}&units={units}&q=\"\n",
    "\n",
    "for index, row in cities_pd.iterrows():\n",
    "    query_url = base_url + row[1]\n",
    "    response = requests.get(query_url).json()\n",
    "    try:\n",
    "        max_response = response[\"main\"][\"temp_max\"]\n",
    "        min_response = response[\"main\"][\"temp_min\"]\n",
    "        cities_pd.loc[index, \"Max Temp\"] = max_response\n",
    "        cities_pd.loc[index, \"Min Temp\"] = min_response\n",
    "        print(f'{row[0]} is completed  with Max Temp: {max_response} Min Temp: {min_response}.')\n",
    "    except:\n",
    "        print(f'{row[0]} was not processed...')\n",
    "\n",
    "#     print(json.dumps(response, indent=4, sort_keys=True))"
   ]
  },
  {
   "cell_type": "code",
   "execution_count": null,
   "metadata": {},
   "outputs": [],
   "source": [
    "cities_pd.head()\n"
   ]
  },
  {
   "cell_type": "code",
   "execution_count": null,
   "metadata": {},
   "outputs": [],
   "source": [
    "# clean data frame\n",
    "cities_pd.dropna(inplace=True)\n",
    "cities_pd.head()\n"
   ]
  },
  {
   "cell_type": "code",
   "execution_count": null,
   "metadata": {},
   "outputs": [],
   "source": [
    "# export to csv\n",
    "cities_pd.to_csv(r'..\\resources\\weather_city.csv', encoding=\"utf-8\", index=False, header=True)"
   ]
  },
  {
   "cell_type": "code",
   "execution_count": null,
   "metadata": {},
   "outputs": [],
   "source": []
  },
  {
   "cell_type": "code",
   "execution_count": null,
   "metadata": {},
   "outputs": [],
   "source": [
    "# Create a heat map using Temperature as weight\n"
   ]
  },
  {
   "cell_type": "code",
   "execution_count": null,
   "metadata": {},
   "outputs": [],
   "source": [
    "# Great box plots for min and max temperatures to identify outliers visually\n"
   ]
  },
  {
   "cell_type": "code",
   "execution_count": null,
   "metadata": {},
   "outputs": [],
   "source": [
    "# Remove Outliers and build new data frame and clean csv file\n"
   ]
  },
  {
   "cell_type": "code",
   "execution_count": null,
   "metadata": {},
   "outputs": [],
   "source": [
    "# Rather than remove outliers - use >< for temps."
   ]
  }
 ],
 "metadata": {
  "kernelspec": {
   "display_name": "Python [conda env:PythonData] *",
   "language": "python",
   "name": "conda-env-PythonData-py"
  },
  "language_info": {
   "codemirror_mode": {
    "name": "ipython",
    "version": 3
   },
   "file_extension": ".py",
   "mimetype": "text/x-python",
   "name": "python",
   "nbconvert_exporter": "python",
   "pygments_lexer": "ipython3",
   "version": "3.6.12"
  }
 },
 "nbformat": 4,
 "nbformat_minor": 4
}
