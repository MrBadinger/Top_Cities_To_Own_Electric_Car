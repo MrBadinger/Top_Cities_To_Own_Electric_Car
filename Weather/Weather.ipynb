{
 "cells": [
  {
   "cell_type": "code",
   "execution_count": 3,
   "metadata": {},
   "outputs": [
    {
     "data": {
      "text/html": [
       "<div>\n",
       "<style scoped>\n",
       "    .dataframe tbody tr th:only-of-type {\n",
       "        vertical-align: middle;\n",
       "    }\n",
       "\n",
       "    .dataframe tbody tr th {\n",
       "        vertical-align: top;\n",
       "    }\n",
       "\n",
       "    .dataframe thead th {\n",
       "        text-align: right;\n",
       "    }\n",
       "</style>\n",
       "<table border=\"1\" class=\"dataframe\">\n",
       "  <thead>\n",
       "    <tr style=\"text-align: right;\">\n",
       "      <th></th>\n",
       "      <th>Unnamed: 0</th>\n",
       "      <th>City_State</th>\n",
       "      <th>Population</th>\n",
       "      <th>Lat</th>\n",
       "      <th>Lng</th>\n",
       "    </tr>\n",
       "  </thead>\n",
       "  <tbody>\n",
       "    <tr>\n",
       "      <th>0</th>\n",
       "      <td>2838</td>\n",
       "      <td>Las Vegas, Nevada</td>\n",
       "      <td>626637.0</td>\n",
       "      <td>36.169941</td>\n",
       "      <td>-115.139830</td>\n",
       "    </tr>\n",
       "    <tr>\n",
       "      <th>1</th>\n",
       "      <td>3411</td>\n",
       "      <td>Albuquerque, New Mexico</td>\n",
       "      <td>559202.0</td>\n",
       "      <td>35.084386</td>\n",
       "      <td>-106.650422</td>\n",
       "    </tr>\n",
       "    <tr>\n",
       "      <th>2</th>\n",
       "      <td>4321</td>\n",
       "      <td>Charlotte, North Carolina</td>\n",
       "      <td>841611.0</td>\n",
       "      <td>35.227087</td>\n",
       "      <td>-80.843127</td>\n",
       "    </tr>\n",
       "    <tr>\n",
       "      <th>3</th>\n",
       "      <td>4439</td>\n",
       "      <td>New York, New York</td>\n",
       "      <td>8443713.0</td>\n",
       "      <td>40.712775</td>\n",
       "      <td>-74.005973</td>\n",
       "    </tr>\n",
       "    <tr>\n",
       "      <th>4</th>\n",
       "      <td>6654</td>\n",
       "      <td>Columbus, Ohio</td>\n",
       "      <td>867628.0</td>\n",
       "      <td>39.961176</td>\n",
       "      <td>-82.998794</td>\n",
       "    </tr>\n",
       "  </tbody>\n",
       "</table>\n",
       "</div>"
      ],
      "text/plain": [
       "   Unnamed: 0                 City_State  Population        Lat         Lng\n",
       "0        2838          Las Vegas, Nevada    626637.0  36.169941 -115.139830\n",
       "1        3411    Albuquerque, New Mexico    559202.0  35.084386 -106.650422\n",
       "2        4321  Charlotte, North Carolina    841611.0  35.227087  -80.843127\n",
       "3        4439         New York, New York   8443713.0  40.712775  -74.005973\n",
       "4        6654             Columbus, Ohio    867628.0  39.961176  -82.998794"
      ]
     },
     "execution_count": 3,
     "metadata": {},
     "output_type": "execute_result"
    }
   ],
   "source": [
    "# Dependencies\n",
    "import pandas as pd\n",
    "import requests\n",
    "import json\n",
    "\n",
    "# OpenWeather & gmaps API Keys\n",
    "from config import (api_key,gkey)\n",
    "\n",
    "cities_pd = pd.read_csv(\"../Resources/census_city.csv\")\n",
    "\n",
    "# Save config information\n",
    "url = \"http://api.openweathermap.org/data/2.5/weather?\"\n",
    "\n",
    "cities_pd.head()"
   ]
  },
  {
   "cell_type": "code",
   "execution_count": null,
   "metadata": {},
   "outputs": [],
   "source": []
  }
 ],
 "metadata": {
  "kernelspec": {
   "display_name": "Python [conda env:.conda-PythonData]",
   "language": "python",
   "name": "conda-env-.conda-PythonData-py"
  },
  "language_info": {
   "codemirror_mode": {
    "name": "ipython",
    "version": 3
   },
   "file_extension": ".py",
   "mimetype": "text/x-python",
   "name": "python",
   "nbconvert_exporter": "python",
   "pygments_lexer": "ipython3",
   "version": "3.6.10"
  }
 },
 "nbformat": 4,
 "nbformat_minor": 4
}
