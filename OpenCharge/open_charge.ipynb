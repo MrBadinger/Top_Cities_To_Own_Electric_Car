{
 "cells": [
  {
   "cell_type": "code",
   "execution_count": 5,
   "metadata": {},
   "outputs": [],
   "source": [
    "# Dependencies\n",
    "import json\n",
    "import requests\n",
    "import os\n",
    "from oc_key import oc_key\n",
    "\n"
   ]
  },
  {
   "cell_type": "code",
   "execution_count": 8,
   "metadata": {},
   "outputs": [
    {
     "name": "stdout",
     "output_type": "stream",
     "text": [
      "https://api.openchargemap.io/v3/poi/?output=json&client=DVProject1&countrycode=US&verbose=false&compact=true&latitude=36.1699412&longitude=-115.1398296&key=b3bfffbf-47cd-4301-8e13-418f9d27975d\n"
     ]
    }
   ],
   "source": [
    "latitude = 36.1699412\n",
    "longitude = -115.1398296\n",
    "\n",
    "# Set the url for the Open Charge Map\n",
    "# WORKS with limited results: query_url = f\"https://api.openchargemap.io/v3/poi/?output=json&client=DVProject1&countrycode=US&maxresults=100&verbose=false&compact=true&latitude={latitude}&longitude={longitude}&key={oc_key}\"\n",
    "query_url = f\"https://api.openchargemap.io/v3/poi/?output=json&client=DVProject1&countrycode=US&verbose=false&compact=true&latitude={latitude}&longitude={longitude}&key={oc_key}\"\n",
    "\n",
    "\n",
    "# Example url from API doc\n",
    "#url = \"https://api.openchargemap.io/v3/poi/?output=json&countrycode=US&maxresults=10&compact=true&verbose=false\"\n",
    "\n",
    "print(query_url)\n"
   ]
  },
  {
   "cell_type": "code",
   "execution_count": 9,
   "metadata": {},
   "outputs": [
    {
     "name": "stdout",
     "output_type": "stream",
     "text": [
      "200\n"
     ]
    }
   ],
   "source": [
    "charge_data = requests.get(query_url)\n",
    "print(charge_data.status_code)\n"
   ]
  },
  {
   "cell_type": "code",
   "execution_count": 11,
   "metadata": {},
   "outputs": [
    {
     "data": {
      "text/plain": [
       "'{\\n  \"IsRecentlyVerified\": false,\\n  \"ID\": 57261,\\n  \"UUID\": \"88F38D36-D596-49A6-AB79-499EB7FDBF84\",\\n  \"DataProviderID\": 2,\\n  \"DataProvidersReference\": \"70958\",\\n  \"OperatorID\": 5,\\n  \"UsageTypeID\": 1,\\n  \"AddressInfo\": {\\n    \"ID\": 57607,\\n    \"Title\": \"THE OGDEN\",\\n    \"AddressLine1\": \"150 N Las Vegas Blvd\",\\n    \"Town\": \"Las Vegas\",\\n    \"StateOrProvince\": \"NV\",\\n    \"Postcode\": \"89101\",\\n    \"CountryID\": 2,\\n    \"Latitude\": 36.1700878,\\n    \"Longitude\": -115.1396153,\\n    \"ContactTelephone1\": \"888-758-4389\",\\n    \"AccessComments\": \"24 hours daily\",\\n    \"RelatedURL\": \"http://www.chargepoint.com/\",\\n    \"Distance\": 0.015668523365375737,\\n    \"DistanceUnit\": 2\\n  },\\n  \"Connections\": [\\n    {\\n      \"ID\": 72358,\\n      \"ConnectionTypeID\": 1,\\n      \"LevelID\": 2,\\n      \"Amps\": 16,\\n      \"Voltage\": 230,\\n      \"PowerKW\": 3.0,\\n      \"CurrentTypeID\": 10,\\n      \"Quantity\": 2\\n    }\\n  ],\\n  \"DateLastStatusUpdate\": \"2019-04-06T04:02:00Z\",\\n  \"DataQualityLevel\": 3,\\n  \"DateCreated\": \"2015-11-30T11:50:00Z\",\\n  \"SubmissionStatusTypeID\": 100\\n}'"
      ]
     },
     "execution_count": 11,
     "metadata": {},
     "output_type": "execute_result"
    }
   ],
   "source": [
    "charge_json = charge_data.json()\n",
    "\n",
    "json.dumps(charge_json[0], indent=2)"
   ]
  },
  {
   "cell_type": "code",
   "execution_count": 12,
   "metadata": {},
   "outputs": [
    {
     "name": "stdout",
     "output_type": "stream",
     "text": [
      "100\n"
     ]
    }
   ],
   "source": [
    "print(len(charge_json))"
   ]
  },
  {
   "cell_type": "code",
   "execution_count": null,
   "metadata": {},
   "outputs": [],
   "source": [
    "# list to store chargers in city\n",
    "address = []\n",
    "\n"
   ]
  },
  {
   "cell_type": "code",
   "execution_count": null,
   "metadata": {},
   "outputs": [],
   "source": [
    "# THIS WAS A BAD IDEA - poi.json is WAY too big...\n",
    "\n",
    "\n",
    "#filepath = os.path.join(\"Resources\", \"poi.json\")\n",
    "#with open(filepath, encoding=\"utf8\") as jsonfile:\n",
    "#    open_charge = json.load(jsonfile)\n",
    "\n"
   ]
  },
  {
   "cell_type": "code",
   "execution_count": null,
   "metadata": {},
   "outputs": [],
   "source": [
    "#js = [json.loads(line) for line in open(filepath, encoding=\"utf8\")]\n",
    "#for item in js:\n",
    "    #name = item.get(\"name\")\n",
    "    #businessID = item.get(\"business_id\")\n",
    "    \n"
   ]
  },
  {
   "cell_type": "code",
   "execution_count": null,
   "metadata": {},
   "outputs": [],
   "source": [
    "#filepath = os.path.join(\"Resources\", \"poi.json\")\n",
    "\n",
    "#print(json.dumps(filepath, encoding=\"utf8\", indent=4, sort_keys=True))"
   ]
  }
 ],
 "metadata": {
  "kernelspec": {
   "display_name": "Python [conda env:PythonData] *",
   "language": "python",
   "name": "conda-env-PythonData-py"
  },
  "language_info": {
   "codemirror_mode": {
    "name": "ipython",
    "version": 3
   },
   "file_extension": ".py",
   "mimetype": "text/x-python",
   "name": "python",
   "nbconvert_exporter": "python",
   "pygments_lexer": "ipython3",
   "version": "3.6.10"
  }
 },
 "nbformat": 4,
 "nbformat_minor": 2
}
