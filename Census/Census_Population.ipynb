{
 "cells": [
  {
   "cell_type": "code",
   "execution_count": 1,
   "metadata": {},
   "outputs": [],
   "source": [
    "# Dependencies\n",
    "import pandas as pd\n",
    "import requests\n",
    "from census import Census\n",
    "import json\n",
    "\n",
    "# Census & gmaps API Keys\n",
    "from config import (api_key,gkey)\n",
    "\n",
    "# Build the endpoint URL\n",
    "base_url = ('https://maps.googleapis.com/maps/api/geocode/json?')\n",
    "\n",
    "# declare csv output path\n",
    "csv_path = '../Resources/census_city.csv'\n",
    "\n",
    "c = Census(api_key, year=2018)"
   ]
  },
  {
   "cell_type": "code",
   "execution_count": 2,
   "metadata": {},
   "outputs": [
    {
     "name": "stdout",
     "output_type": "stream",
     "text": [
      "There are 29573 cities in the census_df dataset.\n"
     ]
    }
   ],
   "source": [
    "# Get Census Population Data for cities\n",
    "census_data = c.acs5.get((\"NAME\", \"B01003_001E\"), {'for': 'place:*'})\n",
    "\n",
    "# Convert to DataFrame\n",
    "census_df = pd.DataFrame(census_data)\n",
    "\n",
    "# Column Reordering\n",
    "census_df = census_df.rename(columns={\"B01003_001E\": \"Population\",\n",
    "                                      \"NAME\": \"City\", \"place\": \"Place\"})\n",
    "\n",
    "print(f'There are {len(census_df)} cities in the census_df dataset.')"
   ]
  },
  {
   "cell_type": "code",
   "execution_count": 3,
   "metadata": {},
   "outputs": [
    {
     "name": "stdout",
     "output_type": "stream",
     "text": [
      "There are 34 cities in the big city dataset.\n"
     ]
    },
    {
     "data": {
      "text/html": [
       "<div>\n",
       "<style scoped>\n",
       "    .dataframe tbody tr th:only-of-type {\n",
       "        vertical-align: middle;\n",
       "    }\n",
       "\n",
       "    .dataframe tbody tr th {\n",
       "        vertical-align: top;\n",
       "    }\n",
       "\n",
       "    .dataframe thead th {\n",
       "        text-align: right;\n",
       "    }\n",
       "</style>\n",
       "<table border=\"1\" class=\"dataframe\">\n",
       "  <thead>\n",
       "    <tr style=\"text-align: right;\">\n",
       "      <th></th>\n",
       "      <th>City</th>\n",
       "      <th>Population</th>\n",
       "      <th>state</th>\n",
       "      <th>Place</th>\n",
       "    </tr>\n",
       "  </thead>\n",
       "  <tbody>\n",
       "    <tr>\n",
       "      <th>2838</th>\n",
       "      <td>Las Vegas city, Nevada</td>\n",
       "      <td>626637.0</td>\n",
       "      <td>32</td>\n",
       "      <td>40000</td>\n",
       "    </tr>\n",
       "    <tr>\n",
       "      <th>3411</th>\n",
       "      <td>Albuquerque city, New Mexico</td>\n",
       "      <td>559202.0</td>\n",
       "      <td>35</td>\n",
       "      <td>02000</td>\n",
       "    </tr>\n",
       "    <tr>\n",
       "      <th>4321</th>\n",
       "      <td>Charlotte city, North Carolina</td>\n",
       "      <td>841611.0</td>\n",
       "      <td>37</td>\n",
       "      <td>12000</td>\n",
       "    </tr>\n",
       "    <tr>\n",
       "      <th>4439</th>\n",
       "      <td>New York city, New York</td>\n",
       "      <td>8443713.0</td>\n",
       "      <td>36</td>\n",
       "      <td>51000</td>\n",
       "    </tr>\n",
       "    <tr>\n",
       "      <th>6654</th>\n",
       "      <td>Columbus city, Ohio</td>\n",
       "      <td>867628.0</td>\n",
       "      <td>39</td>\n",
       "      <td>18000</td>\n",
       "    </tr>\n",
       "  </tbody>\n",
       "</table>\n",
       "</div>"
      ],
      "text/plain": [
       "                                City  Population state  Place\n",
       "2838          Las Vegas city, Nevada    626637.0    32  40000\n",
       "3411    Albuquerque city, New Mexico    559202.0    35  02000\n",
       "4321  Charlotte city, North Carolina    841611.0    37  12000\n",
       "4439         New York city, New York   8443713.0    36  51000\n",
       "6654             Columbus city, Ohio    867628.0    39  18000"
      ]
     },
     "execution_count": 3,
     "metadata": {},
     "output_type": "execute_result"
    }
   ],
   "source": [
    "# create df of cities where the population is greater than 500000\n",
    "big_city_df = census_df.loc[census_df['Population'] > 500000]\n",
    "                            \n",
    "print(f'There are {len(big_city_df)} cities in the big city dataset.')\n",
    "big_city_df.head()"
   ]
  },
  {
   "cell_type": "code",
   "execution_count": 4,
   "metadata": {
    "scrolled": true
   },
   "outputs": [
    {
     "data": {
      "text/html": [
       "<div>\n",
       "<style scoped>\n",
       "    .dataframe tbody tr th:only-of-type {\n",
       "        vertical-align: middle;\n",
       "    }\n",
       "\n",
       "    .dataframe tbody tr th {\n",
       "        vertical-align: top;\n",
       "    }\n",
       "\n",
       "    .dataframe thead th {\n",
       "        text-align: right;\n",
       "    }\n",
       "</style>\n",
       "<table border=\"1\" class=\"dataframe\">\n",
       "  <thead>\n",
       "    <tr style=\"text-align: right;\">\n",
       "      <th></th>\n",
       "      <th>City_State</th>\n",
       "      <th>Clean_City</th>\n",
       "      <th>Population</th>\n",
       "      <th>Lat</th>\n",
       "      <th>Lng</th>\n",
       "    </tr>\n",
       "  </thead>\n",
       "  <tbody>\n",
       "    <tr>\n",
       "      <th>2838</th>\n",
       "      <td>Las Vegas, Nevada</td>\n",
       "      <td>Las Vegas</td>\n",
       "      <td>626637.0</td>\n",
       "      <td>36.1699</td>\n",
       "      <td>-115.14</td>\n",
       "    </tr>\n",
       "    <tr>\n",
       "      <th>3411</th>\n",
       "      <td>Albuquerque, New Mexico</td>\n",
       "      <td>Albuquerque</td>\n",
       "      <td>559202.0</td>\n",
       "      <td>35.0844</td>\n",
       "      <td>-106.65</td>\n",
       "    </tr>\n",
       "    <tr>\n",
       "      <th>4321</th>\n",
       "      <td>Charlotte, North Carolina</td>\n",
       "      <td>Charlotte</td>\n",
       "      <td>841611.0</td>\n",
       "      <td>35.2271</td>\n",
       "      <td>-80.8431</td>\n",
       "    </tr>\n",
       "    <tr>\n",
       "      <th>4439</th>\n",
       "      <td>New York, New York</td>\n",
       "      <td>New York</td>\n",
       "      <td>8443713.0</td>\n",
       "      <td>40.7128</td>\n",
       "      <td>-74.006</td>\n",
       "    </tr>\n",
       "    <tr>\n",
       "      <th>6654</th>\n",
       "      <td>Columbus, Ohio</td>\n",
       "      <td>Columbus</td>\n",
       "      <td>867628.0</td>\n",
       "      <td>39.9612</td>\n",
       "      <td>-82.9988</td>\n",
       "    </tr>\n",
       "  </tbody>\n",
       "</table>\n",
       "</div>"
      ],
      "text/plain": [
       "                     City_State   Clean_City  Population      Lat      Lng\n",
       "2838          Las Vegas, Nevada    Las Vegas    626637.0  36.1699  -115.14\n",
       "3411    Albuquerque, New Mexico  Albuquerque    559202.0  35.0844  -106.65\n",
       "4321  Charlotte, North Carolina    Charlotte    841611.0  35.2271 -80.8431\n",
       "4439         New York, New York     New York   8443713.0  40.7128  -74.006\n",
       "6654             Columbus, Ohio     Columbus    867628.0  39.9612 -82.9988"
      ]
     },
     "execution_count": 4,
     "metadata": {},
     "output_type": "execute_result"
    }
   ],
   "source": [
    "# Create a df with City and State values separated\n",
    "City_State = big_city_df[\"City\"].str.split(\" city,\", n = 1, expand = True) \n",
    "\n",
    "# merge city_state with the big city df\n",
    "city_merge_df = pd.merge(big_city_df, City_State, right_index=True, left_index=True)\n",
    "\n",
    "# rename the city and state columns\n",
    "city_merge_df.rename(columns = {0 :'Clean_City', 1 : 'Clean_State'}, inplace = True)\n",
    "\n",
    "# create a City_State column\n",
    "city_merge_df['City_State'] = city_merge_df['Clean_City'].map(str) +','+ city_merge_df['Clean_State'].map(str)\n",
    "\n",
    "# create columns for lat and lng\n",
    "city_merge_df[\"Lat\"] = \"\"\n",
    "city_merge_df[\"Lng\"] = \"\"\n",
    "\n",
    "# loop through city merge df and set lat and lng for each record\n",
    "for index, row in city_merge_df.iterrows():\n",
    "    \n",
    "    url = base_url + 'address=' + row[0] + '&key=' + gkey      \n",
    "    response = requests.get(url).json() \n",
    "    \n",
    "    city_merge_df.loc[index, \"Lat\"] = response[\"results\"][0][\"geometry\"][\"location\"][\"lat\"]\n",
    "    city_merge_df.loc[index, \"Lng\"] = response[\"results\"][0][\"geometry\"][\"location\"][\"lng\"]\n",
    "\n",
    "# create final city df\n",
    "final_city_df = city_merge_df[['City_State','Clean_City','Population','Lat','Lng']]\n",
    "\n",
    "# print head to screen (this takes several seconds)\n",
    "final_city_df.head()"
   ]
  },
  {
   "cell_type": "code",
   "execution_count": 5,
   "metadata": {},
   "outputs": [],
   "source": [
    "# write csv file of the city data to the Respurces folder\n",
    "final_city_df.to_csv(csv_path)"
   ]
  }
 ],
 "metadata": {
  "kernelspec": {
   "display_name": "Python [conda env:.conda-PythonData]",
   "language": "python",
   "name": "conda-env-.conda-PythonData-py"
  },
  "language_info": {
   "codemirror_mode": {
    "name": "ipython",
    "version": 3
   },
   "file_extension": ".py",
   "mimetype": "text/x-python",
   "name": "python",
   "nbconvert_exporter": "python",
   "pygments_lexer": "ipython3",
   "version": "3.6.10"
  }
 },
 "nbformat": 4,
 "nbformat_minor": 4
}
