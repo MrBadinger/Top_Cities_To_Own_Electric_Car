{
 "cells": [
  {
   "cell_type": "code",
   "execution_count": 7,
   "metadata": {},
   "outputs": [],
   "source": [
    "# Dependencies\n",
    "import pandas as pd\n",
    "import requests\n",
    "from census import Census\n",
    "import json\n",
    "import gmaps\n",
    "\n",
    "# Census & gmaps API Keys\n",
    "from config import (api_key,gkey)\n",
    "\n",
    "# Configure gmaps with API key\n",
    "gmaps.configure(api_key=gkey)\n",
    "\n",
    "# Build the endpoint URL\n",
    "base_url = ('https://maps.googleapis.com/maps/api/geocode/json?')\n",
    "\n",
    "# declare csv output path\n",
    "csv_path = '../Resources/census_city.csv'\n",
    "\n",
    "c = Census(api_key, year=2018)"
   ]
  },
  {
   "cell_type": "code",
   "execution_count": 8,
   "metadata": {},
   "outputs": [
    {
     "name": "stdout",
     "output_type": "stream",
     "text": [
      "There are 29573 cities in the census_df dataset.\n"
     ]
    }
   ],
   "source": [
    "# Get Census Population Data for cities\n",
    "census_data = c.acs5.get((\"NAME\", \"B01003_001E\"), {'for': 'place:*'})\n",
    "\n",
    "# Convert to DataFrame\n",
    "census_df = pd.DataFrame(census_data)\n",
    "\n",
    "# Column Reordering\n",
    "census_df = census_df.rename(columns={\"B01003_001E\": \"Population\",\n",
    "                                      \"NAME\": \"City\", \"place\": \"Place\"})\n",
    "\n",
    "print(f'There are {len(census_df)} cities in the census_df dataset.')"
   ]
  },
  {
   "cell_type": "code",
   "execution_count": 9,
   "metadata": {},
   "outputs": [
    {
     "name": "stdout",
     "output_type": "stream",
     "text": [
      "There are 84 cities in the big city dataset.\n"
     ]
    },
    {
     "data": {
      "text/html": [
       "<div>\n",
       "<style scoped>\n",
       "    .dataframe tbody tr th:only-of-type {\n",
       "        vertical-align: middle;\n",
       "    }\n",
       "\n",
       "    .dataframe tbody tr th {\n",
       "        vertical-align: top;\n",
       "    }\n",
       "\n",
       "    .dataframe thead th {\n",
       "        text-align: right;\n",
       "    }\n",
       "</style>\n",
       "<table border=\"1\" class=\"dataframe\">\n",
       "  <thead>\n",
       "    <tr style=\"text-align: right;\">\n",
       "      <th></th>\n",
       "      <th>City</th>\n",
       "      <th>Population</th>\n",
       "      <th>state</th>\n",
       "      <th>Place</th>\n",
       "    </tr>\n",
       "  </thead>\n",
       "  <tbody>\n",
       "    <tr>\n",
       "      <th>243</th>\n",
       "      <td>Kansas City city, Missouri</td>\n",
       "      <td>481417.0</td>\n",
       "      <td>29</td>\n",
       "      <td>38000</td>\n",
       "    </tr>\n",
       "    <tr>\n",
       "      <th>1311</th>\n",
       "      <td>Omaha city, Nebraska</td>\n",
       "      <td>465112.0</td>\n",
       "      <td>31</td>\n",
       "      <td>37000</td>\n",
       "    </tr>\n",
       "    <tr>\n",
       "      <th>1319</th>\n",
       "      <td>Lincoln city, Nebraska</td>\n",
       "      <td>280849.0</td>\n",
       "      <td>31</td>\n",
       "      <td>28000</td>\n",
       "    </tr>\n",
       "    <tr>\n",
       "      <th>1524</th>\n",
       "      <td>St. Louis city, Missouri</td>\n",
       "      <td>311273.0</td>\n",
       "      <td>29</td>\n",
       "      <td>65000</td>\n",
       "    </tr>\n",
       "    <tr>\n",
       "      <th>2265</th>\n",
       "      <td>Jersey City city, New Jersey</td>\n",
       "      <td>261746.0</td>\n",
       "      <td>34</td>\n",
       "      <td>36000</td>\n",
       "    </tr>\n",
       "  </tbody>\n",
       "</table>\n",
       "</div>"
      ],
      "text/plain": [
       "                              City  Population state  Place\n",
       "243     Kansas City city, Missouri    481417.0    29  38000\n",
       "1311          Omaha city, Nebraska    465112.0    31  37000\n",
       "1319        Lincoln city, Nebraska    280849.0    31  28000\n",
       "1524      St. Louis city, Missouri    311273.0    29  65000\n",
       "2265  Jersey City city, New Jersey    261746.0    34  36000"
      ]
     },
     "execution_count": 9,
     "metadata": {},
     "output_type": "execute_result"
    }
   ],
   "source": [
    "# create df of cities where the population is greater than 500000\n",
    "big_city_df = census_df.loc[census_df['Population'] > 250000]\n",
    "                            \n",
    "print(f'There are {len(big_city_df)} cities in the big city dataset.')\n",
    "big_city_df.head()"
   ]
  },
  {
   "cell_type": "code",
   "execution_count": 10,
   "metadata": {
    "scrolled": true
   },
   "outputs": [
    {
     "name": "stdout",
     "output_type": "stream",
     "text": [
      "Kansas City city, Missouri is completed  with lat: 39.0997265 lng: -94.5785667.\n",
      "Omaha city, Nebraska is completed  with lat: 41.2565369 lng: -95.9345034.\n",
      "Lincoln city, Nebraska is completed  with lat: 40.813616 lng: -96.7025955.\n",
      "St. Louis city, Missouri is completed  with lat: 38.6270025 lng: -90.19940419999999.\n",
      "Jersey City city, New Jersey is completed  with lat: 40.7177545 lng: -74.0431435.\n",
      "Henderson city, Nevada is completed  with lat: 36.0395247 lng: -114.9817213.\n",
      "Las Vegas city, Nevada is completed  with lat: 36.1699412 lng: -115.1398296.\n",
      "Newark city, New Jersey is completed  with lat: 40.735657 lng: -74.1723667.\n",
      "Albuquerque city, New Mexico is completed  with lat: 35.0843859 lng: -106.650422.\n",
      "Buffalo city, New York is completed  with lat: 42.88644679999999 lng: -78.8783689.\n",
      "Charlotte city, North Carolina is completed  with lat: 35.2270869 lng: -80.8431267.\n",
      "New York city, New York is completed  with lat: 40.7127753 lng: -74.0059728.\n",
      "Raleigh city, North Carolina is completed  with lat: 35.7795897 lng: -78.6381787.\n",
      "Durham city, North Carolina is completed  with lat: 35.9940329 lng: -78.898619.\n",
      "Greensboro city, North Carolina is completed  with lat: 36.0726354 lng: -79.7919754.\n",
      "Toledo city, Ohio is completed  with lat: 41.6528052 lng: -83.5378674.\n",
      "Cincinnati city, Ohio is completed  with lat: 39.1031182 lng: -84.5120196.\n",
      "Cleveland city, Ohio is completed  with lat: 41.49932 lng: -81.6943605.\n",
      "Columbus city, Ohio is completed  with lat: 39.9611755 lng: -82.99879419999999.\n",
      "Oklahoma City city, Oklahoma is completed  with lat: 35.4675602 lng: -97.5164276.\n",
      "Tulsa city, Oklahoma is completed  with lat: 36.1539816 lng: -95.99277500000001.\n",
      "Portland city, Oregon is completed  with lat: 45.5051064 lng: -122.6750261.\n",
      "Pittsburgh city, Pennsylvania is completed  with lat: 40.44062479999999 lng: -79.9958864.\n",
      "Philadelphia city, Pennsylvania is completed  with lat: 39.9525839 lng: -75.1652215.\n",
      "Nashville-Davidson metropolitan government (balance), Tennessee is completed  with lat: 36.1492583 lng: -86.7575663.\n",
      "Plano city, Texas is completed  with lat: 33.0198431 lng: -96.6988856.\n",
      "Lubbock city, Texas is completed  with lat: 33.5778631 lng: -101.8551665.\n",
      "Memphis city, Tennessee is completed  with lat: 35.1495343 lng: -90.0489801.\n",
      "San Antonio city, Texas is completed  with lat: 29.4241219 lng: -98.49362819999999.\n",
      "Dallas city, Texas is completed  with lat: 32.7766642 lng: -96.79698789999999.\n",
      "El Paso city, Texas is completed  with lat: 31.7618778 lng: -106.4850217.\n",
      "Houston city, Texas is completed  with lat: 29.7604267 lng: -95.3698028.\n",
      "Corpus Christi city, Texas is completed  with lat: 27.8005828 lng: -97.39638099999999.\n",
      "Laredo city, Texas is completed  with lat: 27.5035613 lng: -99.5075519.\n",
      "Fort Worth city, Texas is completed  with lat: 32.7554883 lng: -97.3307658.\n",
      "Austin city, Texas is completed  with lat: 30.267153 lng: -97.7430608.\n",
      "Virginia Beach city, Virginia is completed  with lat: 36.8529263 lng: -75.97798499999999.\n",
      "Arlington city, Texas is completed  with lat: 32.735687 lng: -97.10806559999999.\n",
      "Seattle city, Washington is completed  with lat: 47.6062095 lng: -122.3320708.\n",
      "Madison city, Wisconsin is completed  with lat: 43.0730517 lng: -89.4012302.\n",
      "Milwaukee city, Wisconsin is completed  with lat: 43.0389025 lng: -87.9064736.\n",
      "San Juan zona urbana, Puerto Rico is completed  with lat: 18.4655394 lng: -66.1057355.\n",
      "Anchorage municipality, Alaska is completed  with lat: 61.2180556 lng: -149.9002778.\n",
      "Mesa city, Arizona is completed  with lat: 33.4151843 lng: -111.8314724.\n",
      "Phoenix city, Arizona is completed  with lat: 33.4483771 lng: -112.0740373.\n",
      "Tucson city, Arizona is completed  with lat: 32.2226066 lng: -110.9747108.\n",
      "Stockton city, California is completed  with lat: 37.9577016 lng: -121.2907796.\n",
      "Long Beach city, California is completed  with lat: 33.7700504 lng: -118.1937395.\n",
      "Bakersfield city, California is completed  with lat: 35.3732921 lng: -119.0187125.\n",
      "Chula Vista city, California is completed  with lat: 32.6400541 lng: -117.0841955.\n",
      "Riverside city, California is completed  with lat: 33.9806005 lng: -117.3754942.\n",
      "San Diego city, California is completed  with lat: 32.715738 lng: -117.1610838.\n",
      "Anaheim city, California is completed  with lat: 33.8365932 lng: -117.9143012.\n",
      "Fresno city, California is completed  with lat: 36.7377981 lng: -119.7871247.\n",
      "Oakland city, California is completed  with lat: 37.8043514 lng: -122.2711639.\n",
      "Aurora city, Colorado is completed  with lat: 39.7294319 lng: -104.8319195.\n",
      "Colorado Springs city, Colorado is completed  with lat: 38.8338816 lng: -104.8213634.\n",
      "Denver city, Colorado is completed  with lat: 39.7392358 lng: -104.990251.\n",
      "Irvine city, California is completed  with lat: 33.6845673 lng: -117.8265049.\n",
      "San Jose city, California is completed  with lat: 37.3382082 lng: -121.8863286.\n",
      "San Francisco city, California is completed  with lat: 37.7749295 lng: -122.4194155.\n",
      "Sacramento city, California is completed  with lat: 38.5815719 lng: -121.4943996.\n",
      "Santa Ana city, California is completed  with lat: 33.7454725 lng: -117.867653.\n",
      "Los Angeles city, California is completed  with lat: 34.0522342 lng: -118.2436849.\n",
      "Miami city, Florida is completed  with lat: 25.7616798 lng: -80.1917902.\n",
      "St. Petersburg city, Florida is completed  with lat: 27.7676008 lng: -82.64029149999999.\n",
      "Orlando city, Florida is completed  with lat: 28.5383355 lng: -81.3792365.\n",
      "Tampa city, Florida is completed  with lat: 27.950575 lng: -82.4571776.\n",
      "Washington city, District of Columbia is completed  with lat: 38.9038855 lng: -77.0106021.\n",
      "Atlanta city, Georgia is completed  with lat: 33.7489954 lng: -84.3879824.\n",
      "Jacksonville city, Florida is completed  with lat: 30.3321838 lng: -81.65565099999999.\n",
      "Urban Honolulu CDP, Hawaii is completed  with lat: 21.3069444 lng: -157.8583333.\n",
      "Indianapolis city (balance), Indiana is completed  with lat: 39.768403 lng: -86.158068.\n",
      "Chicago city, Illinois is completed  with lat: 41.8781136 lng: -87.6297982.\n",
      "Fort Wayne city, Indiana is completed  with lat: 41.079273 lng: -85.1393513.\n",
      "Wichita city, Kansas is completed  with lat: 37.68717609999999 lng: -97.33005299999999.\n",
      "Lexington-Fayette urban county, Kentucky is completed  with lat: 38.0405837 lng: -84.5037164.\n",
      "Louisville/Jefferson County metro government (balance), Kentucky is completed  with lat: 38.2519861 lng: -85.7591408.\n",
      "Baltimore city, Maryland is completed  with lat: 39.2903848 lng: -76.6121893.\n",
      "New Orleans city, Louisiana is completed  with lat: 29.95106579999999 lng: -90.0715323.\n",
      "St. Paul city, Minnesota is completed  with lat: 44.9537029 lng: -93.0899578.\n",
      "Minneapolis city, Minnesota is completed  with lat: 44.977753 lng: -93.2650108.\n",
      "Boston city, Massachusetts is completed  with lat: 42.3600825 lng: -71.0588801.\n",
      "Detroit city, Michigan is completed  with lat: 42.331427 lng: -83.0457538.\n"
     ]
    }
   ],
   "source": [
    "# Create a df with City and State values separated\n",
    "City_State = big_city_df[\"City\"].str.split(\" city,\", n = 1, expand = True) \n",
    "\n",
    "# merge city_state with the big city df\n",
    "city_merge_df = pd.merge(big_city_df, City_State, right_index=True, left_index=True)\n",
    "\n",
    "# rename the city and state columns\n",
    "city_merge_df.rename(columns = {0 :'Clean_City', 1 : 'Clean_State'}, inplace = True)\n",
    "\n",
    "# create a City_State column\n",
    "city_merge_df['City_State'] = city_merge_df['Clean_City'].map(str) +','+ city_merge_df['Clean_State'].map(str)\n",
    "\n",
    "# create columns for lat and lng\n",
    "city_merge_df[\"Lat\"] = \"\"\n",
    "city_merge_df[\"Lng\"] = \"\"\n",
    "\n",
    "# loop through city merge df and set lat and lng for each record\n",
    "for index, row in city_merge_df.iterrows():\n",
    "    \n",
    "    try:\n",
    "        url = base_url + 'address=' + row[0] + '&key=' + gkey      \n",
    "        response = requests.get(url).json() \n",
    "        \n",
    "        lat_response = response[\"results\"][0][\"geometry\"][\"location\"][\"lat\"]\n",
    "        lng_response = response[\"results\"][0][\"geometry\"][\"location\"][\"lng\"]\n",
    "    \n",
    "        city_merge_df.loc[index, \"Lat\"] = lat_response\n",
    "        city_merge_df.loc[index, \"Lng\"] = lng_response\n",
    "        \n",
    "        print(f'{row[0]} is completed  with lat: {lat_response} lng: {lng_response}.')\n",
    "    except:\n",
    "        print(f'{row[0]} was not processed...')\n",
    "\n",
    "# create final city df\n",
    "final_city_df = city_merge_df[['City_State','Clean_City','Population','Lat','Lng']]"
   ]
  },
  {
   "cell_type": "code",
   "execution_count": 11,
   "metadata": {},
   "outputs": [],
   "source": [
    "# write csv file of the city data to the Resources folder\n",
    "final_city_df.to_csv(csv_path)"
   ]
  },
  {
   "cell_type": "code",
   "execution_count": 12,
   "metadata": {},
   "outputs": [
    {
     "data": {
      "application/vnd.jupyter.widget-view+json": {
       "model_id": "5c46783e97114349aa0f59afc7b07409",
       "version_major": 2,
       "version_minor": 0
      },
      "text/plain": [
       "Figure(layout=FigureLayout(border='1px solid black', height='600px', margin='0 auto 0 auto', padding='1px', wi…"
      ]
     },
     "metadata": {},
     "output_type": "display_data"
    }
   ],
   "source": [
    "figure_layout = {\n",
    "    'width': '900px',\n",
    "    'height': '600px',\n",
    "    'border': '1px solid black',\n",
    "    'padding': '1px',\n",
    "    'margin': '0 auto 0 auto'\n",
    "}\n",
    "\n",
    "# Create a poverty Heatmap layer\n",
    "locations = final_city_df[[\"Lat\", \"Lng\"]].astype(float)\n",
    "\n",
    "population = final_city_df[\"Population\"].astype(float)\n",
    "\n",
    "# get the max population\n",
    "max_pop = population.max()\n",
    "\n",
    "fig = gmaps.figure(layout=figure_layout)\n",
    "\n",
    "\n",
    "\n",
    "heat_layer = gmaps.heatmap_layer(locations, weights=population,\n",
    "                                 dissipating=False, max_intensity=max_pop,\n",
    "                                 point_radius = 3)\n",
    "\n",
    "fig.add_layer(heat_layer)\n",
    "\n",
    "fig"
   ]
  },
  {
   "cell_type": "code",
   "execution_count": null,
   "metadata": {},
   "outputs": [],
   "source": []
  }
 ],
 "metadata": {
  "kernelspec": {
   "display_name": "Python [conda env:.conda-PythonData]",
   "language": "python",
   "name": "conda-env-.conda-PythonData-py"
  },
  "language_info": {
   "codemirror_mode": {
    "name": "ipython",
    "version": 3
   },
   "file_extension": ".py",
   "mimetype": "text/x-python",
   "name": "python",
   "nbconvert_exporter": "python",
   "pygments_lexer": "ipython3",
   "version": "3.6.10"
  }
 },
 "nbformat": 4,
 "nbformat_minor": 4
}
