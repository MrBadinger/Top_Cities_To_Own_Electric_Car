{
 "cells": [
  {
   "cell_type": "code",
   "execution_count": 1,
   "metadata": {},
   "outputs": [],
   "source": [
    "# Dependencies\n",
    "import pandas as pd\n",
    "import requests\n",
    "from census import Census\n",
    "import json\n",
    "\n",
    "# Census & gmaps API Keys\n",
    "from config import (api_key,gkey)\n",
    "\n",
    "# Build the endpoint URL\n",
    "base_url = ('https://maps.googleapis.com/maps/api/geocode/json?')\n",
    "\n",
    "\n",
    "c = Census(api_key, year=2018)"
   ]
  },
  {
   "cell_type": "code",
   "execution_count": 2,
   "metadata": {},
   "outputs": [
    {
     "data": {
      "text/plain": [
       "29573"
      ]
     },
     "execution_count": 2,
     "metadata": {},
     "output_type": "execute_result"
    }
   ],
   "source": [
    "# Get Census Population Data for cities\n",
    "census_data = c.acs5.get((\"NAME\", \"B01003_001E\"), {'for': 'place:*'})\n",
    "\n",
    "# Convert to DataFrame\n",
    "census_df = pd.DataFrame(census_data)\n",
    "\n",
    "# Column Reordering\n",
    "census_df = census_df.rename(columns={\"B01003_001E\": \"Population\",\n",
    "                                      \"NAME\": \"City\", \"place\": \"Place\"})\n",
    "\n",
    "len(census_df)"
   ]
  },
  {
   "cell_type": "code",
   "execution_count": 3,
   "metadata": {},
   "outputs": [
    {
     "data": {
      "text/html": [
       "<div>\n",
       "<style scoped>\n",
       "    .dataframe tbody tr th:only-of-type {\n",
       "        vertical-align: middle;\n",
       "    }\n",
       "\n",
       "    .dataframe tbody tr th {\n",
       "        vertical-align: top;\n",
       "    }\n",
       "\n",
       "    .dataframe thead th {\n",
       "        text-align: right;\n",
       "    }\n",
       "</style>\n",
       "<table border=\"1\" class=\"dataframe\">\n",
       "  <thead>\n",
       "    <tr style=\"text-align: right;\">\n",
       "      <th></th>\n",
       "      <th>City</th>\n",
       "      <th>Population</th>\n",
       "      <th>state</th>\n",
       "      <th>Place</th>\n",
       "    </tr>\n",
       "  </thead>\n",
       "  <tbody>\n",
       "    <tr>\n",
       "      <th>2838</th>\n",
       "      <td>Las Vegas city, Nevada</td>\n",
       "      <td>626637.0</td>\n",
       "      <td>32</td>\n",
       "      <td>40000</td>\n",
       "    </tr>\n",
       "    <tr>\n",
       "      <th>3411</th>\n",
       "      <td>Albuquerque city, New Mexico</td>\n",
       "      <td>559202.0</td>\n",
       "      <td>35</td>\n",
       "      <td>02000</td>\n",
       "    </tr>\n",
       "    <tr>\n",
       "      <th>4321</th>\n",
       "      <td>Charlotte city, North Carolina</td>\n",
       "      <td>841611.0</td>\n",
       "      <td>37</td>\n",
       "      <td>12000</td>\n",
       "    </tr>\n",
       "    <tr>\n",
       "      <th>4439</th>\n",
       "      <td>New York city, New York</td>\n",
       "      <td>8443713.0</td>\n",
       "      <td>36</td>\n",
       "      <td>51000</td>\n",
       "    </tr>\n",
       "    <tr>\n",
       "      <th>6654</th>\n",
       "      <td>Columbus city, Ohio</td>\n",
       "      <td>867628.0</td>\n",
       "      <td>39</td>\n",
       "      <td>18000</td>\n",
       "    </tr>\n",
       "  </tbody>\n",
       "</table>\n",
       "</div>"
      ],
      "text/plain": [
       "                                City  Population state  Place\n",
       "2838          Las Vegas city, Nevada    626637.0    32  40000\n",
       "3411    Albuquerque city, New Mexico    559202.0    35  02000\n",
       "4321  Charlotte city, North Carolina    841611.0    37  12000\n",
       "4439         New York city, New York   8443713.0    36  51000\n",
       "6654             Columbus city, Ohio    867628.0    39  18000"
      ]
     },
     "execution_count": 3,
     "metadata": {},
     "output_type": "execute_result"
    }
   ],
   "source": [
    "# create df of cities where the population is greater than 500000\n",
    "big_city_df = census_df.loc[census_df['Population'] > 500000]\n",
    "                              \n",
    "big_city_df.head()"
   ]
  },
  {
   "cell_type": "code",
   "execution_count": 4,
   "metadata": {},
   "outputs": [
    {
     "data": {
      "text/html": [
       "<div>\n",
       "<style scoped>\n",
       "    .dataframe tbody tr th:only-of-type {\n",
       "        vertical-align: middle;\n",
       "    }\n",
       "\n",
       "    .dataframe tbody tr th {\n",
       "        vertical-align: top;\n",
       "    }\n",
       "\n",
       "    .dataframe thead th {\n",
       "        text-align: right;\n",
       "    }\n",
       "</style>\n",
       "<table border=\"1\" class=\"dataframe\">\n",
       "  <thead>\n",
       "    <tr style=\"text-align: right;\">\n",
       "      <th></th>\n",
       "      <th>City</th>\n",
       "      <th>Population</th>\n",
       "      <th>state</th>\n",
       "      <th>Place</th>\n",
       "      <th>Clean_City</th>\n",
       "    </tr>\n",
       "  </thead>\n",
       "  <tbody>\n",
       "    <tr>\n",
       "      <th>2838</th>\n",
       "      <td>Las Vegas city, Nevada</td>\n",
       "      <td>626637.0</td>\n",
       "      <td>32</td>\n",
       "      <td>40000</td>\n",
       "      <td>Las Vegas</td>\n",
       "    </tr>\n",
       "    <tr>\n",
       "      <th>3411</th>\n",
       "      <td>Albuquerque city, New Mexico</td>\n",
       "      <td>559202.0</td>\n",
       "      <td>35</td>\n",
       "      <td>02000</td>\n",
       "      <td>Albuquerque</td>\n",
       "    </tr>\n",
       "    <tr>\n",
       "      <th>4321</th>\n",
       "      <td>Charlotte city, North Carolina</td>\n",
       "      <td>841611.0</td>\n",
       "      <td>37</td>\n",
       "      <td>12000</td>\n",
       "      <td>Charlotte</td>\n",
       "    </tr>\n",
       "    <tr>\n",
       "      <th>4439</th>\n",
       "      <td>New York city, New York</td>\n",
       "      <td>8443713.0</td>\n",
       "      <td>36</td>\n",
       "      <td>51000</td>\n",
       "      <td>New York</td>\n",
       "    </tr>\n",
       "    <tr>\n",
       "      <th>6654</th>\n",
       "      <td>Columbus city, Ohio</td>\n",
       "      <td>867628.0</td>\n",
       "      <td>39</td>\n",
       "      <td>18000</td>\n",
       "      <td>Columbus</td>\n",
       "    </tr>\n",
       "  </tbody>\n",
       "</table>\n",
       "</div>"
      ],
      "text/plain": [
       "                                City  Population state  Place   Clean_City\n",
       "2838          Las Vegas city, Nevada    626637.0    32  40000    Las Vegas\n",
       "3411    Albuquerque city, New Mexico    559202.0    35  02000  Albuquerque\n",
       "4321  Charlotte city, North Carolina    841611.0    37  12000    Charlotte\n",
       "4439         New York city, New York   8443713.0    36  51000     New York\n",
       "6654             Columbus city, Ohio    867628.0    39  18000     Columbus"
      ]
     },
     "execution_count": 4,
     "metadata": {},
     "output_type": "execute_result"
    }
   ],
   "source": [
    "# Insert a Clean City column at the end to get rid of the state\n",
    "big_city_df = big_city_df.assign(Clean_City = big_city_df[\"City\"].str.split(' city').str[0])\n",
    "\n",
    "big_city_df.head()"
   ]
  },
  {
   "cell_type": "code",
   "execution_count": null,
   "metadata": {},
   "outputs": [],
   "source": []
  }
 ],
 "metadata": {
  "kernelspec": {
   "display_name": "Python [conda env:.conda-PythonData]",
   "language": "python",
   "name": "conda-env-.conda-PythonData-py"
  },
  "language_info": {
   "codemirror_mode": {
    "name": "ipython",
    "version": 3
   },
   "file_extension": ".py",
   "mimetype": "text/x-python",
   "name": "python",
   "nbconvert_exporter": "python",
   "pygments_lexer": "ipython3",
   "version": "3.6.10"
  }
 },
 "nbformat": 4,
 "nbformat_minor": 4
}
