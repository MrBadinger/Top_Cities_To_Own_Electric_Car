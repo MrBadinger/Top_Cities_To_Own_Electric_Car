{
 "cells": [
  {
   "cell_type": "code",
   "execution_count": 5,
   "metadata": {},
   "outputs": [],
   "source": [
    "# Dependencies\n",
    "import json\n",
    "import requests\n",
    "import os\n",
    "from oc_key import oc_key\n",
    "\n"
   ]
  },
  {
   "cell_type": "code",
   "execution_count": 6,
   "metadata": {},
   "outputs": [
    {
     "name": "stdout",
     "output_type": "stream",
     "text": [
      "https://api.openchargemap.io/v3/poi/?output=json&client=DVProject1&countrycode=US&maxresults=100&verbose=false&compact=true&latitude=36.1699412&longitude=-115.1398296&key=b3bfffbf-47cd-4301-8e13-418f9d27975d\n"
     ]
    }
   ],
   "source": [
    "latitude = 36.1699412\n",
    "longitude = -115.1398296\n",
    "\n",
    "# Set the url for the Open Charge Map\n",
    "query_url = f\"https://api.openchargemap.io/v3/poi/?output=json&client=DVProject1&countrycode=US&maxresults=100&verbose=false&compact=true&latitude={latitude}&longitude={longitude}&key={oc_key}\"\n",
    "\n",
    "# Example url from API doc\n",
    "#url = \"https://api.openchargemap.io/v3/poi/?output=json&countrycode=US&maxresults=10&compact=true&verbose=false\"\n",
    "\n",
    "print(query_url)\n"
   ]
  },
  {
   "cell_type": "code",
   "execution_count": 7,
   "metadata": {},
   "outputs": [
    {
     "name": "stdout",
     "output_type": "stream",
     "text": [
      "200\n"
     ]
    }
   ],
   "source": [
    "charge_data = requests.get(query_url)\n",
    "print(charge_data.status_code)\n"
   ]
  },
  {
   "cell_type": "code",
   "execution_count": null,
   "metadata": {},
   "outputs": [],
   "source": []
  },
  {
   "cell_type": "code",
   "execution_count": null,
   "metadata": {},
   "outputs": [],
   "source": [
    "# THIS WAS A BAD IDEA - poi.json is WAY too big...\n",
    "\n",
    "\n",
    "#filepath = os.path.join(\"Resources\", \"poi.json\")\n",
    "#with open(filepath, encoding=\"utf8\") as jsonfile:\n",
    "#    open_charge = json.load(jsonfile)\n",
    "\n"
   ]
  },
  {
   "cell_type": "code",
   "execution_count": null,
   "metadata": {},
   "outputs": [],
   "source": [
    "#js = [json.loads(line) for line in open(filepath, encoding=\"utf8\")]\n",
    "#for item in js:\n",
    "    #name = item.get(\"name\")\n",
    "    #businessID = item.get(\"business_id\")\n",
    "    \n"
   ]
  },
  {
   "cell_type": "code",
   "execution_count": null,
   "metadata": {},
   "outputs": [],
   "source": [
    "#filepath = os.path.join(\"Resources\", \"poi.json\")\n",
    "\n",
    "#print(json.dumps(filepath, encoding=\"utf8\", indent=4, sort_keys=True))"
   ]
  }
 ],
 "metadata": {
  "kernelspec": {
   "display_name": "Python [conda env:PythonData] *",
   "language": "python",
   "name": "conda-env-PythonData-py"
  },
  "language_info": {
   "codemirror_mode": {
    "name": "ipython",
    "version": 3
   },
   "file_extension": ".py",
   "mimetype": "text/x-python",
   "name": "python",
   "nbconvert_exporter": "python",
   "pygments_lexer": "ipython3",
   "version": "3.6.10"
  }
 },
 "nbformat": 4,
 "nbformat_minor": 2
}
